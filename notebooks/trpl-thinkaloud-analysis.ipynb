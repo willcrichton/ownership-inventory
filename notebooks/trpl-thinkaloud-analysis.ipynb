{
 "cells": [
  {
   "cell_type": "code",
   "execution_count": 1,
   "id": "983bf296",
   "metadata": {},
   "outputs": [],
   "source": [
    "import whisper\n",
    "import subprocess as sp\n",
    "from pathlib import Path\n",
    "import json\n",
    "import pandas as pd\n",
    "\n",
    "RECORDINGS = Path('../server/trpl-recordings/')"
   ]
  },
  {
   "cell_type": "code",
   "execution_count": 2,
   "id": "0b59bc4f",
   "metadata": {},
   "outputs": [],
   "source": [
    "model = whisper.load_model(\"base\")"
   ]
  },
  {
   "cell_type": "code",
   "execution_count": 3,
   "id": "f0d1e294",
   "metadata": {},
   "outputs": [],
   "source": [
    "answers = [json.loads(l) for l in open('../server/trpl-evaluator.txt', 'r').readlines()]    "
   ]
  },
  {
   "cell_type": "code",
   "execution_count": 4,
   "id": "482afa07",
   "metadata": {},
   "outputs": [],
   "source": [
    "ans = answers[-1]\n",
    "\n",
    "for p in RECORDINGS.iterdir():\n",
    "    if p.stem.endswith(ans['uuid']):\n",
    "        video_path = p    "
   ]
  },
  {
   "cell_type": "code",
   "execution_count": 5,
   "id": "7f3baf96",
   "metadata": {},
   "outputs": [
    {
     "name": "stderr",
     "output_type": "stream",
     "text": [
      "/home/will/ownership-inventory/notebooks/.env/lib/python3.7/site-packages/whisper/transcribe.py:78: UserWarning: FP16 is not supported on CPU; using FP32 instead\n",
      "  warnings.warn(\"FP16 is not supported on CPU; using FP32 instead\")\n"
     ]
    }
   ],
   "source": [
    "result = model.transcribe(str(video_path))\n",
    "text = result['text']"
   ]
  },
  {
   "cell_type": "code",
   "execution_count": 16,
   "id": "9fbc521e",
   "metadata": {},
   "outputs": [
    {
     "name": "stderr",
     "output_type": "stream",
     "text": [
      "  % Total    % Received % Xferd  Average Speed   Time    Time     Time  Current\n",
      "                                 Dload  Upload   Total   Spent    Left  Speed\n",
      "100 1453k    0 18395  100 1435k   1124  89878  0:00:16  0:00:16 --:--:--     0\n"
     ]
    }
   ],
   "source": [
    "with open('words.txt', 'w') as f:\n",
    "    f.write(text)\n",
    "\n",
    "aligned = sp.check_output(\n",
    "    f'curl -F \"audio=@{video_path}\" -F \"transcript=@words.txt\" \"http://localhost:32768/transcriptions?async=false\"',\n",
    "    shell=True).decode('utf-8')\n",
    "\n",
    "aligned = json.loads(aligned)['words']"
   ]
  },
  {
   "cell_type": "code",
   "execution_count": 8,
   "id": "b15739e9",
   "metadata": {},
   "outputs": [
    {
     "data": {
      "text/html": [
       "<div>\n",
       "<style scoped>\n",
       "    .dataframe tbody tr th:only-of-type {\n",
       "        vertical-align: middle;\n",
       "    }\n",
       "\n",
       "    .dataframe tbody tr th {\n",
       "        vertical-align: top;\n",
       "    }\n",
       "\n",
       "    .dataframe thead th {\n",
       "        text-align: right;\n",
       "    }\n",
       "</style>\n",
       "<table border=\"1\" class=\"dataframe\">\n",
       "  <thead>\n",
       "    <tr style=\"text-align: right;\">\n",
       "      <th></th>\n",
       "      <th>answer</th>\n",
       "      <th>correct</th>\n",
       "      <th>start</th>\n",
       "      <th>end</th>\n",
       "    </tr>\n",
       "  </thead>\n",
       "  <tbody>\n",
       "    <tr>\n",
       "      <th>0</th>\n",
       "      <td>{'doesCompile': False, 'lineNumber': 2}</td>\n",
       "      <td>False</td>\n",
       "      <td>5.384</td>\n",
       "      <td>13.983</td>\n",
       "    </tr>\n",
       "    <tr>\n",
       "      <th>1</th>\n",
       "      <td>{'doesCompile': True, 'stdout': 'hello '}</td>\n",
       "      <td>False</td>\n",
       "      <td>13.984</td>\n",
       "      <td>26.188</td>\n",
       "    </tr>\n",
       "  </tbody>\n",
       "</table>\n",
       "</div>"
      ],
      "text/plain": [
       "                                      answer  correct   start     end\n",
       "0    {'doesCompile': False, 'lineNumber': 2}    False   5.384  13.983\n",
       "1  {'doesCompile': True, 'stdout': 'hello '}    False  13.984  26.188"
      ]
     },
     "execution_count": 8,
     "metadata": {},
     "output_type": "execute_result"
    }
   ],
   "source": [
    "df = pd.DataFrame(ans['answers'])\n",
    "df['start'] -= ans['start']\n",
    "df['end'] -= ans['start']\n",
    "df['start'] /= 1000.\n",
    "df['end'] /= 1000."
   ]
  },
  {
   "cell_type": "code",
   "execution_count": 65,
   "id": "489b6b79",
   "metadata": {},
   "outputs": [],
   "source": [
    "from intervaltree import IntervalTree\n",
    "\n",
    "cur_time = 0\n",
    "cur_idx = 0\n",
    "\n",
    "segments = IntervalTree()\n",
    "for entry in aligned:\n",
    "    word = entry['word']\n",
    "    word_time_start = entry['start']\n",
    "    word_time_end = entry['end']    \n",
    "    word_idx_start = text[cur_idx:].find(word) + cur_idx\n",
    "    word_idx_end = word_idx_start + len(word)\n",
    "    \n",
    "    if abs(cur_time - word_time_start) > 0.001:\n",
    "        segments[cur_time:word_time_start] = [cur_idx, word_idx_start]\n",
    "        \n",
    "    segments[word_time_start:word_time_end] = [word_idx_start, word_idx_end]\n",
    "    \n",
    "    cur_idx = word_idx_end\n",
    "    cur_time = word_time_end"
   ]
  },
  {
   "cell_type": "code",
   "execution_count": 77,
   "id": "fb451f43",
   "metadata": {},
   "outputs": [],
   "source": [
    "for _, row in df.iterrows():\n",
    "    segs = sorted(segments[row.start:row.end])\n",
    "    ans_text = text[segs[0].data[0]:segs[-1].data[1]]"
   ]
  }
 ],
 "metadata": {
  "kernelspec": {
   "display_name": "Python 3 (ipykernel)",
   "language": "python",
   "name": "python3"
  },
  "language_info": {
   "codemirror_mode": {
    "name": "ipython",
    "version": 3
   },
   "file_extension": ".py",
   "mimetype": "text/x-python",
   "name": "python",
   "nbconvert_exporter": "python",
   "pygments_lexer": "ipython3",
   "version": "3.7.7"
  }
 },
 "nbformat": 4,
 "nbformat_minor": 5
}
