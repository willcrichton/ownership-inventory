{
 "cells": [
  {
   "cell_type": "code",
   "execution_count": 3,
   "id": "22b620d1",
   "metadata": {},
   "outputs": [
    {
     "name": "stdout",
     "output_type": "stream",
     "text": [
      "/Users/will/Code/rust-experiments/notebooks/utils/utils/../../../server/ownership-inventory.log\n"
     ]
    },
    {
     "data": {
      "text/html": [
       "<div>\n",
       "<style scoped>\n",
       "    .dataframe tbody tr th:only-of-type {\n",
       "        vertical-align: middle;\n",
       "    }\n",
       "\n",
       "    .dataframe tbody tr th {\n",
       "        vertical-align: top;\n",
       "    }\n",
       "\n",
       "    .dataframe thead th {\n",
       "        text-align: right;\n",
       "    }\n",
       "</style>\n",
       "<table border=\"1\" class=\"dataframe\">\n",
       "  <thead>\n",
       "    <tr style=\"text-align: right;\">\n",
       "      <th></th>\n",
       "      <th>id</th>\n",
       "      <th>commitHash</th>\n",
       "      <th>answers</th>\n",
       "      <th>demo</th>\n",
       "      <th>start</th>\n",
       "      <th>end</th>\n",
       "    </tr>\n",
       "  </thead>\n",
       "  <tbody>\n",
       "    <tr>\n",
       "      <th>0</th>\n",
       "      <td>027dde08-15a6-4423-a1d1-558951ca1fa0</td>\n",
       "      <td>c3911952daa4af472cb45e40d59b9da415899758</td>\n",
       "      <td>[{'question': 'get_or_default', 'answer': {'er...</td>\n",
       "      <td>{'name': 'f', 'email': 'f', 'yearsRust': '1', ...</td>\n",
       "      <td>1675465301072</td>\n",
       "      <td>1675465340963</td>\n",
       "    </tr>\n",
       "    <tr>\n",
       "      <th>1</th>\n",
       "      <td>6c789a19-b2f5-4ea3-b83b-bc2f37599609</td>\n",
       "      <td>c3911952daa4af472cb45e40d59b9da415899758</td>\n",
       "      <td>[{'question': 'apply_curve', 'answer': {'error...</td>\n",
       "      <td>{'email': 'f', 'name': 'f', 'yearsRust': '1', ...</td>\n",
       "      <td>1675465246807</td>\n",
       "      <td>1675465275080</td>\n",
       "    </tr>\n",
       "    <tr>\n",
       "      <th>2</th>\n",
       "      <td>96e0263f-692a-4162-9add-31b2e40f65de</td>\n",
       "      <td>c3911952daa4af472cb45e40d59b9da415899758</td>\n",
       "      <td>[{'question': 'apply_curve', 'answer': {'error...</td>\n",
       "      <td>{'name': 'f', 'email': 'f', 'yearsRust': '1', ...</td>\n",
       "      <td>1675465355671</td>\n",
       "      <td>1675465394346</td>\n",
       "    </tr>\n",
       "  </tbody>\n",
       "</table>\n",
       "</div>"
      ],
      "text/plain": [
       "                                     id  \\\n",
       "0  027dde08-15a6-4423-a1d1-558951ca1fa0   \n",
       "1  6c789a19-b2f5-4ea3-b83b-bc2f37599609   \n",
       "2  96e0263f-692a-4162-9add-31b2e40f65de   \n",
       "\n",
       "                                 commitHash  \\\n",
       "0  c3911952daa4af472cb45e40d59b9da415899758   \n",
       "1  c3911952daa4af472cb45e40d59b9da415899758   \n",
       "2  c3911952daa4af472cb45e40d59b9da415899758   \n",
       "\n",
       "                                             answers  \\\n",
       "0  [{'question': 'get_or_default', 'answer': {'er...   \n",
       "1  [{'question': 'apply_curve', 'answer': {'error...   \n",
       "2  [{'question': 'apply_curve', 'answer': {'error...   \n",
       "\n",
       "                                                demo          start  \\\n",
       "0  {'name': 'f', 'email': 'f', 'yearsRust': '1', ...  1675465301072   \n",
       "1  {'email': 'f', 'name': 'f', 'yearsRust': '1', ...  1675465246807   \n",
       "2  {'name': 'f', 'email': 'f', 'yearsRust': '1', ...  1675465355671   \n",
       "\n",
       "             end  \n",
       "0  1675465340963  \n",
       "1  1675465275080  \n",
       "2  1675465394346  "
      ]
     },
     "execution_count": 3,
     "metadata": {},
     "output_type": "execute_result"
    }
   ],
   "source": [
    "import utils\n",
    "df, _ = utils.load_inventory_responses()\n",
    "df"
   ]
  },
  {
   "cell_type": "code",
   "execution_count": null,
   "id": "8f57f80d",
   "metadata": {},
   "outputs": [],
   "source": [
    "import pandas as pd\n",
    "import json\n",
    "import textwrap"
   ]
  },
  {
   "cell_type": "code",
   "execution_count": null,
   "id": "686ee354",
   "metadata": {},
   "outputs": [],
   "source": [
    "with open(\"../server/ownership-inventory.log\", \"r\") as f:\n",
    "    logs = []\n",
    "    for l in f.readlines():\n",
    "        data = json.loads(l)\n",
    "        demo = data.pop('demo', None)\n",
    "        logs.append({\n",
    "            **demo,\n",
    "            **data\n",
    "        })\n",
    "    logs = pd.DataFrame(logs)\n",
    "\n",
    "resp = logs.groupby('id').apply(lambda df: df.sort_values('end').iloc[-1])\n",
    "resp['duration'] = (resp.end - resp.start) / (1000 * 60)\n",
    "\n",
    "ans = []\n",
    "for _, row in resp.iterrows():\n",
    "    row = row.to_dict()\n",
    "    for a in row.pop('answers', None):\n",
    "        tasks = a.pop('answer')\n",
    "        ans.append({\n",
    "            **row,\n",
    "            **a,\n",
    "            **tasks\n",
    "        })\n",
    "ans = pd.DataFrame(ans)\n",
    "ans = ans.groupby(['id', 'question']).apply(lambda df: df.sort_values('end').iloc[0]).reset_index(drop=True)\n",
    "# ans"
   ]
  },
  {
   "cell_type": "code",
   "execution_count": null,
   "id": "834ede99",
   "metadata": {},
   "outputs": [],
   "source": [
    "resp.sort_values('start')[['name', 'email', 'duration', 'yearsCpp']].reset_index()"
   ]
  },
  {
   "cell_type": "code",
   "execution_count": null,
   "id": "b5b67de1",
   "metadata": {},
   "outputs": [],
   "source": [
    "ans.groupby('question').size()"
   ]
  },
  {
   "cell_type": "code",
   "execution_count": null,
   "id": "3e9aaca3",
   "metadata": {},
   "outputs": [],
   "source": [
    "for q in ans.question.unique():\n",
    "    to_delete = ['id', 'start', 'end', 'commitHash', 'duration', 'question']\n",
    "    ans[ans.question == q].drop(to_delete, axis=1).to_csv(f'data/{q}.csv')"
   ]
  },
  {
   "cell_type": "code",
   "execution_count": null,
   "id": "1ea59114",
   "metadata": {
    "scrolled": false
   },
   "outputs": [],
   "source": [
    "# for q in ans.question.unique():\n",
    "#     df = ans[ans.question == q]\n",
    "#     print('= QUESTION:', q)\n",
    "    \n",
    "#     def print_col(k, k_nice):\n",
    "#         print('==', k_nice)\n",
    "#         for a in df[k].tolist():\n",
    "#             print(textwrap.indent(a, '  '))\n",
    "#             print('  ----')\n",
    "#         print()\n",
    "#     print_col('errorExplanation', 'Error explanation:')\n",
    "#     print_col('messageInterpretation', 'Message interpretation:')\n",
    "#     print_col('safetyViolation', 'Safety violation:')\n",
    "#     print_col('functionFix', 'Function fix:')\n",
    "\n",
    "    \n",
    "    \n",
    "#     print('='*30 + '\\n')"
   ]
  },
  {
   "cell_type": "code",
   "execution_count": null,
   "id": "c67007f4",
   "metadata": {},
   "outputs": [],
   "source": [
    "import gspread\n",
    "import gspread_formatting as fmt\n",
    "\n",
    "gc = gspread.service_account()\n",
    "\n",
    "sh = gc.open(\"Ownership inventory data\")\n",
    "all_ws = sh.worksheets()\n",
    "\n",
    "def find_ws(title):\n",
    "    for ws in all_ws:\n",
    "        if ws.title == title:\n",
    "            return ws"
   ]
  },
  {
   "cell_type": "code",
   "execution_count": null,
   "id": "f66735c2",
   "metadata": {},
   "outputs": [],
   "source": [
    "def ltr(i):\n",
    "    return chr(65 + i)\n",
    "assert(ltr(0) == 'A')"
   ]
  },
  {
   "cell_type": "code",
   "execution_count": null,
   "id": "ae9b326e",
   "metadata": {},
   "outputs": [],
   "source": [
    "for q in ans.question.unique():\n",
    "    to_delete = ['id', 'start', 'end', 'commitHash', 'duration', 'question']\n",
    "    fields = ans[ans.question == q].drop(to_delete, axis=1)    \n",
    "    cols = fields.columns\n",
    "    data_i = cols.tolist().index('errorExplanation')\n",
    "\n",
    "    ws = find_ws(q)\n",
    "    if not ws:\n",
    "        ws = sh.add_worksheet(title=q, rows=len(fields)+1, cols=len(cols)+3)\n",
    "        \n",
    "    header_fmt = fmt.cellFormat(textFormat=fmt.textFormat(bold=True))\n",
    "    text_fmt = fmt.cellFormat(wrapStrategy='WRAP', verticalAlignment=\"TOP\")\n",
    "    code_fmt = fmt.cellFormat(textFormat=fmt.textFormat(fontFamily=\"Source Code Pro\"), verticalAlignment=\"TOP\")\n",
    "    \n",
    "    formats = [text_fmt, text_fmt, code_fmt, code_fmt]    \n",
    "    fmt.format_cell_ranges(ws, [(\"A1:I1\", header_fmt)] + list(zip(map(lambda i: ltr(data_i + i), range(4)), formats)))\n",
    "    meta_width = 50\n",
    "    widths = [200, 200, 400, 400]\n",
    "    fmt.set_column_widths(ws, [(ltr(i), meta_width) for i in range(data_i)] + list(zip(map(lambda i: ltr(data_i + i), range(4)), widths)))\n",
    "    \n",
    "    ws.update([cols.tolist()] + fields.values.tolist())"
   ]
  }
 ],
 "metadata": {
  "kernelspec": {
   "display_name": "Python 3 (ipykernel)",
   "language": "python",
   "name": "python3"
  },
  "language_info": {
   "codemirror_mode": {
    "name": "ipython",
    "version": 3
   },
   "file_extension": ".py",
   "mimetype": "text/x-python",
   "name": "python",
   "nbconvert_exporter": "python",
   "pygments_lexer": "ipython3",
   "version": "3.10.9"
  }
 },
 "nbformat": 4,
 "nbformat_minor": 5
}
